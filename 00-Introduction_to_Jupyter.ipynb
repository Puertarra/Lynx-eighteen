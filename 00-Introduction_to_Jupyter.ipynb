{
 "cells": [
  {
   "cell_type": "markdown",
   "metadata": {},
   "source": [
    "# 00- Introduction to Jupyter"
   ]
  },
  {
   "cell_type": "markdown",
   "metadata": {},
   "source": [
    "## Introduction"
   ]
  },
  {
   "cell_type": "markdown",
   "metadata": {},
   "source": [
    "**Jupyter** is a command shell for interactive computing in multiple programming languages, originally developed for the Python programming language, that offers an easy way to lean to coding.\n",
    "\n",
    "Jupyter is an open source software !!\n",
    "\n",
    "The Jupyter Notebook is being used in all areas of academic (UC Berkeley, Stanford, UW, NYU, Cal Poly, etc.) and government (NASA JPL, KBase) research as well as industry (IBM, Facebook, Microsoft, Bloomberg, JP Morgan, WhatsApp, Quantopian, GraphLab, Enthought, Continuum, Telefónicaetc.) and in secondary schools (Highlands Montessori School).\n",
    "\n",
    "### Where does the name come from?\n",
    "\n",
    "The name has its origins in a few different places.\n",
    "\n",
    "First, the names comes from the planet Jupiter. We wanted to pick a name that evoked the traditions and ideas of science.\n",
    "\n",
    "Second, the core programming languages supported by Jupyter are Julia, Python and R. While the name Jupyter is not a direct acronym for these languages, it nods its head in those directions. In particular, the \"y\" in the middle of Jupyter was chosen to honor our Python heritage. See the logos of these languages in the languages folder of this repo.\n",
    "\n",
    "Third, Galileo was the first person to discover the moons of Jupiter. His publication on the moons of Jupiter is an early example of research that includes the underlying data in the publication. This is one of the core ideas and requirements for scientific reproducibility. Reproducibility is one of the main focuses of our project."
   ]
  },
  {
   "cell_type": "markdown",
   "metadata": {},
   "source": [
    "## What is Python?\n",
    "Python is a modern, robust, high level programming language. It is very easy to pick up even if you are completely new to programming."
   ]
  },
  {
   "cell_type": "markdown",
   "metadata": {},
   "source": [
    "## Launching Jupyter Notebook"
   ]
  },
  {
   "cell_type": "markdown",
   "metadata": {},
   "source": [
    "From the terminal\n",
    "\n",
    "    jupyter notebook\n",
    "\n",
    "In Anaconda, open the Anaonda Navigator and run the apps."
   ]
  },
  {
   "cell_type": "markdown",
   "metadata": {},
   "source": [
    "# Using Jupyter Notebooks"
   ]
  },
  {
   "cell_type": "markdown",
   "metadata": {},
   "source": [
    "There are two cell modes:\n",
    "- Code Mode\n",
    "- Markdown (text) mode\n",
    "\n",
    "Use <Y> to toggle to Code Mode and <M> for Markdown"
   ]
  },
  {
   "cell_type": "code",
   "execution_count": null,
   "metadata": {},
   "outputs": [],
   "source": [
    "# This is a Command Cell (and this is a comment)\n",
    "print(\"Hello world\")"
   ]
  },
  {
   "cell_type": "markdown",
   "metadata": {},
   "source": [
    "To create a Markdown cell press **ESC** + **M**"
   ]
  },
  {
   "cell_type": "markdown",
   "metadata": {},
   "source": [
    "Some useful shortcuts:\n",
    "\n",
    "**Y** toggle cell to code<br>\n",
    "**M** toggle cell to markdown<br>\n",
    "**Z** undo last cell deletion<br>\n",
    "**Tab** code completion or indent<br>\n",
    "**Ctrl-]** indent<br>\n",
    "**Ctrl-A** select all<br>\n",
    "**Esc** command mode<br>\n",
    "**Shift- Enter** run cell<br>\n",
    "**1** to heading 1<br>\n",
    "**A/B** insert cell above/ below<br>\n",
    "**C** copy selected cell<br>\n",
    "**V** paste cell below<br>\n",
    "**DD** (double D) delete selected cell<br>\n",
    "**Ctrl-S** Save and Checkpoint<br>\n",
    "**O** toggle output<br>\n",
    "**II** (double I) interrupt kernel<br>\n",
    "\n"
   ]
  },
  {
   "cell_type": "markdown",
   "metadata": {},
   "source": [
    "<font color='green'>DO: Double click in the next lines to see inside</font>"
   ]
  },
  {
   "cell_type": "markdown",
   "metadata": {},
   "source": [
    "# Main Title\n",
    "## Subtitle\n",
    "### Third level title\n",
    "#### And so on"
   ]
  },
  {
   "cell_type": "markdown",
   "metadata": {},
   "source": [
    "You can use *emphasis/italics*\tor **strong/bold**\n",
    "\n",
    "Or define lists:\n",
    "1. Item 1\n",
    "2. Item 2\n",
    "\n",
    "or with bullets\n",
    "* Item \n",
    "* Another item"
   ]
  },
  {
   "cell_type": "markdown",
   "metadata": {},
   "source": [
    "We can include references like this [Highlands Montessori](www.highlandsmontessori.cl)\n"
   ]
  },
  {
   "cell_type": "code",
   "execution_count": null,
   "metadata": {},
   "outputs": [],
   "source": []
  }
 ],
 "metadata": {
  "kernelspec": {
   "display_name": "Python 3",
   "language": "python",
   "name": "python3"
  },
  "language_info": {
   "codemirror_mode": {
    "name": "ipython",
    "version": 3
   },
   "file_extension": ".py",
   "mimetype": "text/x-python",
   "name": "python",
   "nbconvert_exporter": "python",
   "pygments_lexer": "ipython3",
   "version": "3.6.4"
  }
 },
 "nbformat": 4,
 "nbformat_minor": 1
}
