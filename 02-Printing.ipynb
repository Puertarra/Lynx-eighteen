{
 "cells": [
  {
   "cell_type": "markdown",
   "metadata": {},
   "source": [
    "# 02-Printing"
   ]
  },
  {
   "cell_type": "markdown",
   "metadata": {},
   "source": [
    "# Print Statement"
   ]
  },
  {
   "cell_type": "code",
   "execution_count": null,
   "metadata": {},
   "outputs": [],
   "source": [
    "print(\"Hello World\")"
   ]
  },
  {
   "cell_type": "markdown",
   "metadata": {},
   "source": [
    "In Python, single, double and triple quotes are used to denote a string.<br>\n",
    "Most use single quotes when declaring a single character. <br>\n",
    "Double quotes when declaring a line and ...<br>\n",
    "Triple quotes when declaring a paragraph/multiple lines."
   ]
  },
  {
   "cell_type": "code",
   "execution_count": null,
   "metadata": {},
   "outputs": [],
   "source": [
    "print(\"Hello World\")"
   ]
  },
  {
   "cell_type": "code",
   "execution_count": null,
   "metadata": {},
   "outputs": [],
   "source": [
    "print (\"\"\"My name is <write your name here> and\n",
    "\n",
    "I love Python.\"\"\")"
   ]
  },
  {
   "cell_type": "markdown",
   "metadata": {},
   "source": [
    "Strings can be assigned to variable say _string1_ and _string2_ which can called when using the print statement."
   ]
  },
  {
   "cell_type": "code",
   "execution_count": null,
   "metadata": {
    "scrolled": true
   },
   "outputs": [],
   "source": [
    "string1 = 'World'\n",
    "print('Hello', string1)\n",
    "\n",
    "string2 = '!'\n",
    "print('Hello', string1, string2)"
   ]
  },
  {
   "cell_type": "markdown",
   "metadata": {},
   "source": [
    "String concatenation is the \"addition\" of two strings. Observe that while concatenating there will be no space between the strings."
   ]
  },
  {
   "cell_type": "code",
   "execution_count": null,
   "metadata": {},
   "outputs": [],
   "source": [
    "print ('Hello' + string1 + string2)"
   ]
  },
  {
   "cell_type": "markdown",
   "metadata": {},
   "source": [
    "**{:s}** is used to refer to a variable which contains a string."
   ]
  },
  {
   "cell_type": "code",
   "execution_count": null,
   "metadata": {},
   "outputs": [],
   "source": [
    "print(\"Hello {:s}\".format(string1))"
   ]
  },
  {
   "cell_type": "markdown",
   "metadata": {},
   "source": [
    "Similarly, when using other data types\n",
    "\n",
    "    - %s -> string\n",
    "    - %d -> Integer\n",
    "    - %f -> Float\n",
    "    - %o -> Octal\n",
    "    - %x -> Hexadecimal\n",
    "    - %e -> exponential\n",
    "    \n",
    "This can be used for conversions inside the print statement itself."
   ]
  },
  {
   "cell_type": "code",
   "execution_count": null,
   "metadata": {},
   "outputs": [],
   "source": [
    "print (\"Actual Number = %d\" %18)\n",
    "print (\"Float of the number = %f\" %18)\n",
    "print (\"Octal equivalent of the number = %o\" %18)\n",
    "print (\"Hexadecimal equivalent of the number = %x\" %18)\n",
    "print (\"Exponential equivalent of the number = %e\" %18)"
   ]
  },
  {
   "cell_type": "markdown",
   "metadata": {},
   "source": [
    "## <font color='blue'>The Pythonist way of priting !!!</font>"
   ]
  },
  {
   "cell_type": "code",
   "execution_count": null,
   "metadata": {},
   "outputs": [],
   "source": [
    "print (\"Actual Number = {:d}\".format(18))\n",
    "print (\"Float of the number = {:f}\".format(18))\n",
    "print (\"Octal equivalent of the number = {:o}\".format(18))\n",
    "print (\"Hexadecimal equivalent of the number = {:x}\".format(18))\n",
    "print (\"Exponential equivalent of the number = {:e}\".format(18))"
   ]
  },
  {
   "cell_type": "markdown",
   "metadata": {},
   "source": [
    "## <font color='green'>Task 2:</font> Fix the cell and execute"
   ]
  },
  {
   "cell_type": "code",
   "execution_count": null,
   "metadata": {},
   "outputs": [],
   "source": [
    "'{1} {0}'.format('one', 'two')\n",
    "'{:>10}'.format('test')\n",
    "'{:10}'.format('test')  # Left align\n",
    "# numbers\n",
    "'{:d}'.format(42)\n",
    "'{:f}'.format(3.141592653589793)\n",
    "'{:4d}'.format(42) # padding\n",
    "'{:06.2f}'.format(3.141592653589793)\n",
    "'{:04d}'.format(42)\n",
    "'{: d}'.format((- 23))\n",
    "'{first} {last}'.format(first='Hello', last='world!')\n"
   ]
  },
  {
   "cell_type": "markdown",
   "metadata": {},
   "source": [
    "When referring to multiple variables parenthesis is used."
   ]
  },
  {
   "cell_type": "code",
   "execution_count": null,
   "metadata": {},
   "outputs": [],
   "source": [
    "print(\"Hello {:s} {:s}\".format(string1,string2))"
   ]
  },
  {
   "cell_type": "markdown",
   "metadata": {},
   "source": [
    "##Other Examples"
   ]
  },
  {
   "cell_type": "markdown",
   "metadata": {},
   "source": [
    "The following are other different ways the print statement can be put to use."
   ]
  },
  {
   "cell_type": "code",
   "execution_count": null,
   "metadata": {},
   "outputs": [],
   "source": [
    "print (\"I want %%d to be printed {:s}\".format('here'))"
   ]
  },
  {
   "cell_type": "code",
   "execution_count": null,
   "metadata": {},
   "outputs": [],
   "source": [
    "print('_A'*10)"
   ]
  },
  {
   "cell_type": "code",
   "execution_count": null,
   "metadata": {},
   "outputs": [],
   "source": [
    "print(\"Jan\\nFeb\\nMar\\nApr\\nMay\\nJun\\nJul\\nAug\")"
   ]
  },
  {
   "cell_type": "code",
   "execution_count": null,
   "metadata": {},
   "outputs": [],
   "source": [
    "print(\"I want \\\\n to be printed.\")"
   ]
  },
  {
   "cell_type": "code",
   "execution_count": null,
   "metadata": {},
   "outputs": [],
   "source": [
    "print(\"Look\\twhat\\thappens.\")"
   ]
  },
  {
   "cell_type": "code",
   "execution_count": null,
   "metadata": {},
   "outputs": [],
   "source": [
    "print(\"\"\"\n",
    "Routine:\n",
    "\\t- Eat\n",
    "\\t- Sleep\\n\\t- Repeat\n",
    "\"\"\")"
   ]
  },
  {
   "cell_type": "markdown",
   "metadata": {},
   "source": [
    "# PrecisionWidth and FieldWidth"
   ]
  },
  {
   "cell_type": "markdown",
   "metadata": {},
   "source": [
    "Fieldwidth is the width of the entire number and precision is the width towards the right. One can alter these widths based on the requirements.\n",
    "\n",
    "The default Precision Width is set to 6."
   ]
  },
  {
   "cell_type": "code",
   "execution_count": null,
   "metadata": {},
   "outputs": [],
   "source": [
    "\"%f\" % 3.121312312312"
   ]
  },
  {
   "cell_type": "markdown",
   "metadata": {},
   "source": [
    "Notice upto 6 decimal points are returned. To specify the number of decimal points, '%(fieldwidth).(precisionwidth)f' is used."
   ]
  },
  {
   "cell_type": "code",
   "execution_count": null,
   "metadata": {},
   "outputs": [],
   "source": [
    "\"%.5f\" % 3.121312312312"
   ]
  },
  {
   "cell_type": "markdown",
   "metadata": {},
   "source": [
    "### <font color='blue'>The same but using the Pythonist way !!!</font>\n",
    "What is the difference? \n",
    "TIP: look for the most tiny detail in both outputs"
   ]
  },
  {
   "cell_type": "code",
   "execution_count": null,
   "metadata": {},
   "outputs": [],
   "source": [
    "print(\"{:.5f}\".format(3.121312312312))"
   ]
  },
  {
   "cell_type": "markdown",
   "metadata": {},
   "source": [
    "If the field width is set more than the necessary than the data right aligns itself to adjust to the specified values."
   ]
  },
  {
   "cell_type": "code",
   "execution_count": null,
   "metadata": {},
   "outputs": [],
   "source": [
    "\"%9.5f\" % 3.121312312312"
   ]
  },
  {
   "cell_type": "markdown",
   "metadata": {},
   "source": [
    "## <font color='green'>Task 2:</font> write the Pythonist way"
   ]
  },
  {
   "cell_type": "code",
   "execution_count": null,
   "metadata": {},
   "outputs": [],
   "source": [
    "# \"%9.5f\" % 3.121312312312\n"
   ]
  },
  {
   "cell_type": "markdown",
   "metadata": {},
   "source": [
    "Zero padding is done by adding a 0 at the start of fieldwidth."
   ]
  },
  {
   "cell_type": "code",
   "execution_count": null,
   "metadata": {},
   "outputs": [],
   "source": [
    "# \"%020.5f\" % 3.121312312312"
   ]
  },
  {
   "cell_type": "markdown",
   "metadata": {},
   "source": [
    "For proper alignment, a space can be left blank in the field width so that when a negative number is used, proper alignment is maintained."
   ]
  },
  {
   "cell_type": "code",
   "execution_count": null,
   "metadata": {},
   "outputs": [],
   "source": [
    "print(\"{:10f}\".format(3.121312312312))\n",
    "print(\"{:10f}\".format(-3.121312312312))"
   ]
  },
  {
   "cell_type": "markdown",
   "metadata": {},
   "source": [
    "As mentioned above, the data right aligns itself when the field width mentioned is larger than the actualy field width. But left alignment can be done by specifying a negative symbol in the field width."
   ]
  },
  {
   "cell_type": "markdown",
   "metadata": {},
   "source": [
    "## <font color='green'>Task 2:</font> What is the difference?\n",
    "Open a new cell below the next one and write a text (like this) explaining what the difference is among the two printing statements."
   ]
  },
  {
   "cell_type": "code",
   "execution_count": null,
   "metadata": {},
   "outputs": [],
   "source": [
    "print(\"{:9.3f}\".format(3.121312312312))\n",
    "print(\"{:.3f}\".format(3.121312312312))"
   ]
  },
  {
   "cell_type": "markdown",
   "metadata": {},
   "source": [
    "# Input data from the keyboard"
   ]
  },
  {
   "cell_type": "code",
   "execution_count": null,
   "metadata": {},
   "outputs": [],
   "source": [
    "input(\"My name is: \")"
   ]
  },
  {
   "cell_type": "markdown",
   "metadata": {},
   "source": [
    "## <font color='green'>Task 2:</font> Store the input in a variable?\n",
    "Write a sentence that store your name in a variable\n",
    "TIP: use the input function\n"
   ]
  },
  {
   "cell_type": "code",
   "execution_count": null,
   "metadata": {},
   "outputs": [],
   "source": [
    "my_name = input('My name is: ')"
   ]
  },
  {
   "cell_type": "markdown",
   "metadata": {},
   "source": [
    "## <font color='green'>Task 2:</font> Write \"Hello world\" with your name?\n",
    "TIP: use the variable containing your name<br>\n",
    "OUTPUT: \"Hello world, Andrés!!\""
   ]
  },
  {
   "cell_type": "code",
   "execution_count": null,
   "metadata": {},
   "outputs": [],
   "source": [
    "print(\"Hello world, {}!!\".format(my_name))"
   ]
  },
  {
   "cell_type": "code",
   "execution_count": null,
   "metadata": {},
   "outputs": [],
   "source": []
  }
 ],
 "metadata": {
  "kernelspec": {
   "display_name": "Python 3",
   "language": "python",
   "name": "python3"
  },
  "language_info": {
   "codemirror_mode": {
    "name": "ipython",
    "version": 3
   },
   "file_extension": ".py",
   "mimetype": "text/x-python",
   "name": "python",
   "nbconvert_exporter": "python",
   "pygments_lexer": "ipython3",
   "version": "3.6.4"
  }
 },
 "nbformat": 4,
 "nbformat_minor": 1
}
